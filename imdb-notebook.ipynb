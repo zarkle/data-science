{
 "cells": [
  {
   "cell_type": "markdown",
   "metadata": {},
   "source": [
    "### Pandas and Probability\n",
    "#### Analysis: Movies and Pollution\n",
    "#### Beverly Pham\n",
    "#### March 27, 2018"
   ]
  },
  {
   "cell_type": "code",
   "execution_count": 1,
   "metadata": {},
   "outputs": [],
   "source": [
    "# Render plots inline as output\n",
    "%matplotlib inline\n",
    "\n",
    "# Global installs for required packages\n",
    "import pandas as pd\n",
    "import numpy as np\n",
    "import matplotlib as plt\n",
    "from datetime import date\n",
    "df = pd.read_csv('./movie_metadata.csv')\n",
    "df = df.drop_duplicates()\n",
    "\n",
    "import warnings\n",
    "warnings.filterwarnings('ignore')"
   ]
  },
  {
   "cell_type": "markdown",
   "metadata": {},
   "source": [
    "### 1. What's the probability that a movie was longer than an hour and a half? Two hours?"
   ]
  },
  {
   "cell_type": "code",
   "execution_count": 2,
   "metadata": {},
   "outputs": [
    {
     "data": {
      "text/plain": [
       "0.8101545253863135"
      ]
     },
     "execution_count": 2,
     "metadata": {},
     "output_type": "execute_result"
    }
   ],
   "source": [
    "(df['duration'][df.duration > 90.0]).count() / df['duration'].dropna().count()"
   ]
  },
  {
   "cell_type": "code",
   "execution_count": 3,
   "metadata": {},
   "outputs": [
    {
     "data": {
      "text/plain": [
       "0.21312462372065022"
      ]
     },
     "execution_count": 3,
     "metadata": {},
     "output_type": "execute_result"
    }
   ],
   "source": [
    "(df['duration'][df.duration > 120.0]).count() / df['duration'].dropna().count()"
   ]
  },
  {
   "cell_type": "markdown",
   "metadata": {},
   "source": [
    "### 2. What's the probability that a movie was directed by Stephen Spielberg?"
   ]
  },
  {
   "cell_type": "code",
   "execution_count": 4,
   "metadata": {},
   "outputs": [
    {
     "data": {
      "text/plain": [
       "0.005311542390194076"
      ]
     },
     "execution_count": 4,
     "metadata": {},
     "output_type": "execute_result"
    }
   ],
   "source": [
    "(df['director_name'][df.director_name == 'Steven Spielberg']).count() / df['director_name'].dropna().count()"
   ]
  },
  {
   "cell_type": "markdown",
   "metadata": {},
   "source": [
    "### 3. What's the probability that a movie directed by Clint Eastwood will gross under budget?"
   ]
  },
  {
   "cell_type": "code",
   "execution_count": 5,
   "metadata": {},
   "outputs": [
    {
     "data": {
      "text/plain": [
       "0.35"
      ]
     },
     "execution_count": 5,
     "metadata": {},
     "output_type": "execute_result"
    }
   ],
   "source": [
    "clint_count = df[df.director_name == 'Clint Eastwood'].director_name.count()\n",
    "under = df[df.director_name == 'Clint Eastwood'][df.gross < df.budget].director_name.count()\n",
    "under / clint_count"
   ]
  },
  {
   "cell_type": "markdown",
   "metadata": {},
   "source": [
    "### 4. What's the probability that a movie generally grossed more than its budget?"
   ]
  },
  {
   "cell_type": "code",
   "execution_count": 6,
   "metadata": {},
   "outputs": [
    {
     "data": {
      "text/plain": [
       "0.492725509214355"
      ]
     },
     "execution_count": 6,
     "metadata": {},
     "output_type": "execute_result"
    }
   ],
   "source": [
    "(df['gross'][df.gross > df.budget]).dropna().count() / df['gross'].dropna().count()"
   ]
  },
  {
   "cell_type": "markdown",
   "metadata": {},
   "source": [
    "### 5. What's the probability that a movie grossed over the average gross of this data set?"
   ]
  },
  {
   "cell_type": "code",
   "execution_count": 7,
   "metadata": {},
   "outputs": [
    {
     "data": {
      "text/plain": [
       "0.31910766246362754"
      ]
     },
     "execution_count": 7,
     "metadata": {},
     "output_type": "execute_result"
    }
   ],
   "source": [
    "avg = df.gross.mean()\n",
    "df['gross'][df.gross > avg].count() / df['gross'].dropna().count()"
   ]
  },
  {
   "cell_type": "markdown",
   "metadata": {},
   "source": [
    "### For ratings we'll consider a movie with at least a 6/10 to be worth renting, if not seeing in theaters. A false positive would be a movie that was highly-rated but did poorly in the box office (gross < budget). A false negative would be a movie that was poorly-rated but did great in the box office (gross < budget).\n",
    "### 6. In the IMDB dataset, what are the false positive and false negative rates? Can you provide some examples of each?"
   ]
  },
  {
   "cell_type": "code",
   "execution_count": 8,
   "metadata": {},
   "outputs": [
    {
     "data": {
      "text/plain": [
       "0.24289715886354543"
      ]
     },
     "execution_count": 8,
     "metadata": {},
     "output_type": "execute_result"
    }
   ],
   "source": [
    "false_pos = df.query('gross < budget and imdb_score >= 6').imdb_score.count()\n",
    "false_pos / df['imdb_score'].dropna().count()"
   ]
  },
  {
   "cell_type": "code",
   "execution_count": 9,
   "metadata": {},
   "outputs": [
    {
     "data": {
      "text/html": [
       "<div>\n",
       "<style scoped>\n",
       "    .dataframe tbody tr th:only-of-type {\n",
       "        vertical-align: middle;\n",
       "    }\n",
       "\n",
       "    .dataframe tbody tr th {\n",
       "        vertical-align: top;\n",
       "    }\n",
       "\n",
       "    .dataframe thead th {\n",
       "        text-align: right;\n",
       "    }\n",
       "</style>\n",
       "<table border=\"1\" class=\"dataframe\">\n",
       "  <thead>\n",
       "    <tr style=\"text-align: right;\">\n",
       "      <th></th>\n",
       "      <th>movie_title</th>\n",
       "      <th>imdb_score</th>\n",
       "    </tr>\n",
       "  </thead>\n",
       "  <tbody>\n",
       "    <tr>\n",
       "      <th>2</th>\n",
       "      <td>Spectre</td>\n",
       "      <td>6.8</td>\n",
       "    </tr>\n",
       "    <tr>\n",
       "      <th>5</th>\n",
       "      <td>John Carter</td>\n",
       "      <td>6.6</td>\n",
       "    </tr>\n",
       "    <tr>\n",
       "      <th>7</th>\n",
       "      <td>Tangled</td>\n",
       "      <td>7.8</td>\n",
       "    </tr>\n",
       "  </tbody>\n",
       "</table>\n",
       "</div>"
      ],
      "text/plain": [
       "    movie_title  imdb_score\n",
       "2      Spectre          6.8\n",
       "5  John Carter          6.6\n",
       "7      Tangled          7.8"
      ]
     },
     "execution_count": 9,
     "metadata": {},
     "output_type": "execute_result"
    }
   ],
   "source": [
    "df[df.gross < df.budget][df.imdb_score >= 6][['movie_title', 'imdb_score']].head(3)"
   ]
  },
  {
   "cell_type": "code",
   "execution_count": 10,
   "metadata": {},
   "outputs": [
    {
     "data": {
      "text/plain": [
       "0.09223689475790316"
      ]
     },
     "execution_count": 10,
     "metadata": {},
     "output_type": "execute_result"
    }
   ],
   "source": [
    "false_neg = df.query('gross > budget and imdb_score < 6').imdb_score.count()\n",
    "false_neg / df['imdb_score'].dropna().count()"
   ]
  },
  {
   "cell_type": "code",
   "execution_count": 11,
   "metadata": {},
   "outputs": [
    {
     "data": {
      "text/html": [
       "<div>\n",
       "<style scoped>\n",
       "    .dataframe tbody tr th:only-of-type {\n",
       "        vertical-align: middle;\n",
       "    }\n",
       "\n",
       "    .dataframe tbody tr th {\n",
       "        vertical-align: top;\n",
       "    }\n",
       "\n",
       "    .dataframe thead th {\n",
       "        text-align: right;\n",
       "    }\n",
       "</style>\n",
       "<table border=\"1\" class=\"dataframe\">\n",
       "  <thead>\n",
       "    <tr style=\"text-align: right;\">\n",
       "      <th></th>\n",
       "      <th>movie_title</th>\n",
       "      <th>imdb_score</th>\n",
       "    </tr>\n",
       "  </thead>\n",
       "  <tbody>\n",
       "    <tr>\n",
       "      <th>37</th>\n",
       "      <td>Transformers: Age of Extinction</td>\n",
       "      <td>5.7</td>\n",
       "    </tr>\n",
       "    <tr>\n",
       "      <th>122</th>\n",
       "      <td>Night at the Museum: Battle of the Smithsonian</td>\n",
       "      <td>5.9</td>\n",
       "    </tr>\n",
       "    <tr>\n",
       "      <th>174</th>\n",
       "      <td>The Twilight Saga: Breaking Dawn - Part 2</td>\n",
       "      <td>5.5</td>\n",
       "    </tr>\n",
       "  </tbody>\n",
       "</table>\n",
       "</div>"
      ],
      "text/plain": [
       "                                         movie_title  imdb_score\n",
       "37                  Transformers: Age of Extinction          5.7\n",
       "122  Night at the Museum: Battle of the Smithsonian          5.9\n",
       "174       The Twilight Saga: Breaking Dawn - Part 2          5.5"
      ]
     },
     "execution_count": 11,
     "metadata": {},
     "output_type": "execute_result"
    }
   ],
   "source": [
    "df[df.gross > df.budget][df.imdb_score < 6][['movie_title', 'imdb_score']].head(3)"
   ]
  },
  {
   "cell_type": "markdown",
   "metadata": {},
   "source": [
    "### 7. If I’m a production studio exec and Tom Hanks is starring in my movie but I’m feeling uncertain about whether we should keep him (will he make as much money as we want?), tell me should I keep him in the movie or switch him out for Harrison Ford?"
   ]
  },
  {
   "cell_type": "code",
   "execution_count": 12,
   "metadata": {},
   "outputs": [
    {
     "data": {
      "text/plain": [
       "1.924857945754717"
      ]
     },
     "execution_count": 12,
     "metadata": {},
     "output_type": "execute_result"
    }
   ],
   "source": [
    "tom_avg = df[df['actor_1_name'] == 'Tom Hanks']['gross'].mean()\n",
    "tom_avg / df[df['actor_1_name'] == 'Tom Hanks']['budget'].mean()"
   ]
  },
  {
   "cell_type": "code",
   "execution_count": 13,
   "metadata": {},
   "outputs": [
    {
     "data": {
      "text/plain": [
       "2.8038465588723622"
      ]
     },
     "execution_count": 13,
     "metadata": {},
     "output_type": "execute_result"
    }
   ],
   "source": [
    "ford_avg = df[df['actor_1_name'] == 'Harrison Ford']['gross'].mean()\n",
    "ford_avg / df[df['actor_1_name'] == 'Harrison Ford']['budget'].mean()"
   ]
  },
  {
   "cell_type": "markdown",
   "metadata": {},
   "source": [
    "### 8. Same as above, but I’m judging on the ratings of the movie instead of the gross/budget."
   ]
  },
  {
   "cell_type": "code",
   "execution_count": 14,
   "metadata": {},
   "outputs": [
    {
     "data": {
      "text/plain": [
       "7.425000000000001"
      ]
     },
     "execution_count": 14,
     "metadata": {},
     "output_type": "execute_result"
    }
   ],
   "source": [
    "tom_rating = df[df['actor_1_name'] == 'Tom Hanks']['imdb_score'].mean()\n",
    "tom_rating"
   ]
  },
  {
   "cell_type": "code",
   "execution_count": 15,
   "metadata": {},
   "outputs": [
    {
     "data": {
      "text/plain": [
       "7.15925925925926"
      ]
     },
     "execution_count": 15,
     "metadata": {},
     "output_type": "execute_result"
    }
   ],
   "source": [
    "ford_avg = df[df['actor_1_name'] == 'Harrison Ford']['imdb_score'].mean()\n",
    "ford_avg"
   ]
  },
  {
   "cell_type": "markdown",
   "metadata": {},
   "source": [
    "### 9. What’s the probability that a movie’s length will be between 1hr 10mins and 1h 30mins?"
   ]
  },
  {
   "cell_type": "code",
   "execution_count": 16,
   "metadata": {},
   "outputs": [
    {
     "data": {
      "text/plain": [
       "0.13245033112582782"
      ]
     },
     "execution_count": 16,
     "metadata": {},
     "output_type": "execute_result"
    }
   ],
   "source": [
    "(df['duration'][df.duration < 90.0][70.0 < df.duration]).count() / df['duration'].dropna().count()"
   ]
  },
  {
   "cell_type": "markdown",
   "metadata": {},
   "source": [
    "### 10. How does the distribution of movie budgets compare to the movie gross values?"
   ]
  },
  {
   "cell_type": "code",
   "execution_count": 17,
   "metadata": {},
   "outputs": [
    {
     "data": {
      "text/plain": [
       "<matplotlib.axes._subplots.AxesSubplot at 0x1134c2be0>"
      ]
     },
     "execution_count": 17,
     "metadata": {},
     "output_type": "execute_result"
    },
    {
     "data": {
      "image/png": "[encoded data removed]",
      "text/plain": [
       "<Figure size 432x288 with 1 Axes>"
      ]
     },
     "metadata": {},
     "output_type": "display_data"
    }
   ],
   "source": [
    "# df[['budget', 'gross']].plot(x='gross', y='budget', kind='scatter')\n",
    "# decided to filter to remove outliers\n",
    "df[df.budget < 1000000000.0][['budget', 'gross']].plot(x='gross', y='budget', kind='scatter')"
   ]
  },
  {
   "cell_type": "markdown",
   "metadata": {},
   "source": [
    "### 11. Which genre trends toward the highest gross-to-budget ratio? You may have to do some extra parsing to answer this question."
   ]
  },
  {
   "cell_type": "code",
   "execution_count": 18,
   "metadata": {},
   "outputs": [
    {
     "data": {
      "text/plain": [
       "0                    [Action, Adventure, Fantasy, Sci-Fi]\n",
       "1                            [Action, Adventure, Fantasy]\n",
       "2                           [Action, Adventure, Thriller]\n",
       "3                                      [Action, Thriller]\n",
       "4                                           [Documentary]\n",
       "5                             [Action, Adventure, Sci-Fi]\n",
       "6                            [Action, Adventure, Romance]\n",
       "7       [Adventure, Animation, Comedy, Family, Fantasy...\n",
       "8                             [Action, Adventure, Sci-Fi]\n",
       "9                   [Adventure, Family, Fantasy, Mystery]\n",
       "10                            [Action, Adventure, Sci-Fi]\n",
       "11                            [Action, Adventure, Sci-Fi]\n",
       "12                                    [Action, Adventure]\n",
       "13                           [Action, Adventure, Fantasy]\n",
       "14                           [Action, Adventure, Western]\n",
       "15                   [Action, Adventure, Fantasy, Sci-Fi]\n",
       "16                   [Action, Adventure, Family, Fantasy]\n",
       "17                            [Action, Adventure, Sci-Fi]\n",
       "18                           [Action, Adventure, Fantasy]\n",
       "19      [Action, Adventure, Comedy, Family, Fantasy, S...\n",
       "20                                   [Adventure, Fantasy]\n",
       "21                           [Action, Adventure, Fantasy]\n",
       "22                    [Action, Adventure, Drama, History]\n",
       "23                                   [Adventure, Fantasy]\n",
       "24                           [Adventure, Family, Fantasy]\n",
       "25                    [Action, Adventure, Drama, Romance]\n",
       "26                                       [Drama, Romance]\n",
       "27                            [Action, Adventure, Sci-Fi]\n",
       "28                  [Action, Adventure, Sci-Fi, Thriller]\n",
       "29                  [Action, Adventure, Sci-Fi, Thriller]\n",
       "                              ...                        \n",
       "5013                                      [Drama, Family]\n",
       "5014                            [Action, Crime, Thriller]\n",
       "5015                                      [Comedy, Drama]\n",
       "5016                             [Crime, Drama, Thriller]\n",
       "5017                                    [Comedy, Romance]\n",
       "5018                                              [Drama]\n",
       "5019                          [Horror, Mystery, Thriller]\n",
       "5020                            [Drama, Horror, Thriller]\n",
       "5021                             [Comedy, Drama, Romance]\n",
       "5022                                              [Drama]\n",
       "5023                                            [Romance]\n",
       "5024                                   [Sci-Fi, Thriller]\n",
       "5025                              [Comedy, Crime, Horror]\n",
       "5026                              [Drama, Music, Romance]\n",
       "5027                                              [Drama]\n",
       "5028                                             [Horror]\n",
       "5029                   [Crime, Horror, Mystery, Thriller]\n",
       "5030                                              [Drama]\n",
       "5031                           [Comedy, Horror, Thriller]\n",
       "5032                                       [Crime, Drama]\n",
       "5033                            [Drama, Sci-Fi, Thriller]\n",
       "5034                                           [Thriller]\n",
       "5035            [Action, Crime, Drama, Romance, Thriller]\n",
       "5036                                       [Crime, Drama]\n",
       "5037                                      [Comedy, Drama]\n",
       "5038                                      [Comedy, Drama]\n",
       "5039                    [Crime, Drama, Mystery, Thriller]\n",
       "5040                            [Drama, Horror, Thriller]\n",
       "5041                             [Comedy, Drama, Romance]\n",
       "5042                                        [Documentary]\n",
       "Name: genres, Length: 4998, dtype: object"
      ]
     },
     "execution_count": 18,
     "metadata": {},
     "output_type": "execute_result"
    }
   ],
   "source": [
    "df.genres.apply(lambda x: x.split('|'))"
   ]
  },
  {
   "cell_type": "markdown",
   "metadata": {},
   "source": [
    "### 12. Nicolas Cage is known for starring in some pretty bad movies. Are his movies statistically significantly worse (i.e. in rating) than the rest of the IMDB 5000+?"
   ]
  },
  {
   "cell_type": "code",
   "execution_count": 19,
   "metadata": {},
   "outputs": [
    {
     "data": {
      "text/plain": [
       "6.2125"
      ]
     },
     "execution_count": 19,
     "metadata": {},
     "output_type": "execute_result"
    }
   ],
   "source": [
    "cage = df[df.actor_1_name == 'Nicolas Cage'].imdb_score.mean()\n",
    "cage"
   ]
  },
  {
   "cell_type": "code",
   "execution_count": 20,
   "metadata": {},
   "outputs": [
    {
     "data": {
      "text/plain": [
       "6.441056422569028"
      ]
     },
     "execution_count": 20,
     "metadata": {},
     "output_type": "execute_result"
    }
   ],
   "source": [
    "imdb_avg = df.imdb_score.mean()\n",
    "imdb_avg"
   ]
  },
  {
   "cell_type": "markdown",
   "metadata": {},
   "source": [
    "### Nicolas Cage movies and IMDB Scores"
   ]
  },
  {
   "cell_type": "code",
   "execution_count": 21,
   "metadata": {},
   "outputs": [
    {
     "data": {
      "text/plain": [
       "<matplotlib.axes._subplots.AxesSubplot at 0x114aae940>"
      ]
     },
     "execution_count": 21,
     "metadata": {},
     "output_type": "execute_result"
    },
    {
     "data": {
      "image/png": "[encoded data removed]",
      "text/plain": [
       "<Figure size 432x288 with 1 Axes>"
      ]
     },
     "metadata": {},
     "output_type": "display_data"
    }
   ],
   "source": [
    "df[df.actor_1_name == 'Nicolas Cage'][['movie_title','imdb_score']].plot(x='movie_title', y='imdb_score', kind='bar')"
   ]
  },
  {
   "cell_type": "markdown",
   "metadata": {},
   "source": [
    "### 13. Have any years grossed a statistically-significant higher amount than the other years?"
   ]
  },
  {
   "cell_type": "code",
   "execution_count": 22,
   "metadata": {},
   "outputs": [
    {
     "data": {
      "text/plain": [
       "title_year\n",
       "2013.0    1.049929e+10\n",
       "2012.0    1.041541e+10\n",
       "2014.0    1.022056e+10\n",
       "2010.0    9.917119e+09\n",
       "2009.0    9.901023e+09\n",
       "Name: gross, dtype: float64"
      ]
     },
     "execution_count": 22,
     "metadata": {},
     "output_type": "execute_result"
    }
   ],
   "source": [
    "gross_year = df[['title_year', 'gross']].groupby('title_year')\n",
    "gross_year_sum = gross_year['gross'].sum()\n",
    "gross_year_sum.sort_values(ascending=False).head(5)"
   ]
  },
  {
   "cell_type": "code",
   "execution_count": 23,
   "metadata": {},
   "outputs": [
    {
     "data": {
      "text/plain": [
       "<matplotlib.axes._subplots.AxesSubplot at 0x114b19898>"
      ]
     },
     "execution_count": 23,
     "metadata": {},
     "output_type": "execute_result"
    },
    {
     "data": {
      "image/png": "[encoded data removed]",
      "text/plain": [
       "<Figure size 432x288 with 1 Axes>"
      ]
     },
     "metadata": {},
     "output_type": "display_data"
    }
   ],
   "source": [
    "gross_year['title_year'].sum().plot()\n",
    "# movies really ramped up in the last 30 years!"
   ]
  },
  {
   "cell_type": "code",
   "execution_count": 24,
   "metadata": {},
   "outputs": [
    {
     "data": {
      "text/plain": [
       "<matplotlib.axes._subplots.AxesSubplot at 0x114bc2ac8>"
      ]
     },
     "execution_count": 24,
     "metadata": {},
     "output_type": "execute_result"
    },
    {
     "data": {
      "image/png": "[encoded data removed]",
      "text/plain": [
       "<Figure size 432x288 with 1 Axes>"
      ]
     },
     "metadata": {},
     "output_type": "display_data"
    }
   ],
   "source": [
    "df.plot(x='imdb_score', y='movie_facebook_likes', kind='scatter')"
   ]
  },
  {
   "cell_type": "code",
   "execution_count": 25,
   "metadata": {},
   "outputs": [
    {
     "data": {
      "text/plain": [
       "<matplotlib.axes._subplots.AxesSubplot at 0x114e0a438>"
      ]
     },
     "execution_count": 25,
     "metadata": {},
     "output_type": "execute_result"
    },
    {
     "data": {
      "image/png": "[encoded data removed]",
      "text/plain": [
       "<Figure size 432x288 with 1 Axes>"
      ]
     },
     "metadata": {},
     "output_type": "display_data"
    }
   ],
   "source": [
    "df[df.title_year < 2017][df.title_year > 2010].plot(x='budget', y='gross', kind='scatter')"
   ]
  },
  {
   "cell_type": "code",
   "execution_count": null,
   "metadata": {},
   "outputs": [],
   "source": []
  }
 ],
 "metadata": {
  "kernelspec": {
   "display_name": "Python 3",
   "language": "python",
   "name": "python3"
  },
  "language_info": {
   "codemirror_mode": {
    "name": "ipython",
    "version": 3
   },
   "file_extension": ".py",
   "mimetype": "text/x-python",
   "name": "python",
   "nbconvert_exporter": "python",
   "pygments_lexer": "ipython3",
   "version": "3.6.4"
  }
 },
 "nbformat": 4,
 "nbformat_minor": 2
}
